{
  "nbformat": 4,
  "nbformat_minor": 0,
  "metadata": {
    "colab": {
      "private_outputs": true,
      "provenance": [],
      "authorship_tag": "ABX9TyN+H+0H9tIRLdwiT3ThIDDs",
      "include_colab_link": true
    },
    "kernelspec": {
      "name": "python3",
      "display_name": "Python 3"
    },
    "language_info": {
      "name": "python"
    }
  },
  "cells": [
    {
      "cell_type": "markdown",
      "metadata": {
        "id": "view-in-github",
        "colab_type": "text"
      },
      "source": [
        "<a href=\"https://colab.research.google.com/github/rocagal/UTS_G211210089/blob/main/UTS1_G211210089.ipynb\" target=\"_parent\"><img src=\"https://colab.research.google.com/assets/colab-badge.svg\" alt=\"Open In Colab\"/></a>"
      ]
    },
    {
      "cell_type": "code",
      "execution_count": null,
      "metadata": {
        "id": "TU0mB5uu_4Jg"
      },
      "outputs": [],
      "source": [
        "# Import File Modul and Packeges\n",
        "import pandas as pd                                                   #\n",
        "import numpy as np                                                    #\n",
        "import matplotlib.pyplot as plt                                       #\n",
        "import seaborn as sns                                                 #\n",
        "from sklearn.model_selection import train_test_split                  #\n",
        "from sklearn.linear_model import LinearRegression                     #\n",
        "from sklearn.metrics import mean_squared_error, mean_absolute_error   #\n",
        "from sklearn import preprocessing                                     #\n",
        "\n",
        "from google.colab import files\n",
        "uploaded = files.upload()"
      ]
    },
    {
      "cell_type": "code",
      "source": [
        "# Importing data\n",
        "disease_df = pd.read_csv(\"CarPrice_Assignment.csv\")\n",
        "disease_df.drop(['car_ID'], inplace = True, axis = 1)\n",
        "disease_df.rename(columns = {'male':'Sex_male'}, inplace=True)\n",
        "# Removing NaN / NULL Values\n",
        "disease_df.dropna(axis=0, inplace=True)\n",
        "# Print data disease_df of rows and columns\n",
        "print(disease_df.head(), disease_df.shape)"
      ],
      "metadata": {
        "id": "dJyvYO8uHlwl"
      },
      "execution_count": null,
      "outputs": []
    },
    {
      "cell_type": "code",
      "source": [
        "# Importing dataset csv to pandas dataframe\n",
        "disease_df.head()"
      ],
      "metadata": {
        "id": "xBQEt7RiNDvh"
      },
      "execution_count": null,
      "outputs": []
    },
    {
      "cell_type": "code",
      "source": [
        "# Checking dtypes and null values of columns\n",
        "disease_df.info"
      ],
      "metadata": {
        "id": "gYL9HJVLxuYx"
      },
      "execution_count": null,
      "outputs": []
    },
    {
      "cell_type": "code",
      "source": [
        "# Checking summary of numeric variables\n",
        "disease_df.describe()"
      ],
      "metadata": {
        "id": "frOURetkxap1"
      },
      "execution_count": null,
      "outputs": []
    },
    {
      "cell_type": "code",
      "source": [
        "# Checking number of columns of each data type for general EDA\n",
        "disease_df.dtypes.value_counts()"
      ],
      "metadata": {
        "id": "5i3l60RFzjR2"
      },
      "execution_count": null,
      "outputs": []
    },
    {
      "cell_type": "code",
      "source": [
        "# Cleaning Car Name to keep only brand(company) name and remove model names\n",
        "disease_df.rename(columns = {'CarName':'companyname'}, inplace = True)\n",
        "disease_df.head()"
      ],
      "metadata": {
        "id": "7r9OwnQ55K4N"
      },
      "execution_count": null,
      "outputs": []
    },
    {
      "cell_type": "code",
      "source": [
        "from pandas.core.frame import DataFrame\n",
        "from google.colab.output import use_tags\n",
        "# Fixing values in company name\n",
        "\n",
        "disease_df.companyname = df.companyname.str.lower()\n",
        "def replace_name(a, b):\n",
        "    disease_df.companyname.replace(a, b, inplace = True)\n",
        "\n",
        "replace_name('maxda', 'mazda')\n",
        "replace_name('porcshce', 'porsche')\n",
        "replace_name('toyouta', 'toyota')\n",
        "replace_name('vokswagen', 'volkswagen')\n",
        "replace_name('vw', 'volkswagen')\n",
        "df.companyname.unique()"
      ],
      "metadata": {
        "id": "dflJ1BN67BGH"
      },
      "execution_count": null,
      "outputs": []
    },
    {
      "cell_type": "code",
      "source": [
        "#counting number of unique company names\n",
        "disease_df.companyname.nunique()"
      ],
      "metadata": {
        "id": "iaALP-657-Nj"
      },
      "execution_count": null,
      "outputs": []
    },
    {
      "cell_type": "code",
      "source": [
        "#Binning the Car Companies based on avg prices of each Company.\n",
        "\n",
        "def replace_values(a, b):\n",
        "  disease_df.companyname.replace(a, b, inplace = True)\n",
        "\n",
        "replace_values('chevrolet','Low_End')\n",
        "replace_values('dodge','Low_End')\n",
        "replace_values('plymouth','Low_End')\n",
        "replace_values('honda','Low_End')\n",
        "replace_values('subaru','Low_End')\n",
        "replace_values('isuzu','Low_End')\n",
        "replace_values('mitsubishi','Budget')\n",
        "replace_values('renault','Budget')\n",
        "replace_values('toyota','Budget')\n",
        "replace_values('volkswagen','Budget')\n",
        "replace_values('nissan','Budget')\n",
        "replace_values('mazda','Budget')\n",
        "replace_values('saab','Medium')\n",
        "replace_values('peugeot','Medium')\n",
        "replace_values('alfa-romero','Medium')\n",
        "replace_values('mercury','Medium')\n",
        "replace_values('audi','Medium')\n",
        "replace_values('volvo','Medium')\n",
        "replace_values('bmw','High_End')\n",
        "replace_values('porsche','High_End')\n",
        "replace_values('buick','High_End')\n",
        "replace_values('jaguar','High_End')\n",
        "\n",
        "disease_df.rename(columns = {'companyname':'segment'}, inplace = True)\n",
        "disease_df.head()"
      ],
      "metadata": {
        "id": "zkVIEWR29jiy"
      },
      "execution_count": null,
      "outputs": []
    },
    {
      "cell_type": "code",
      "source": [
        "# Checking distribution and spread of car price\n",
        "\n",
        "plt.figure(figsize=(20, 8))\n",
        "\n",
        "plt.subplot(1, 2, 1)\n",
        "plt.title('Car Price Distribution Plot')\n",
        "sns.distplot(disease_df.price)\n",
        "\n",
        "plt.subplot(1, 2, 2)\n",
        "plt.title('Car Price Spread')\n",
        "sns.boxplot(y = disease_df.price)\n",
        "\n",
        "plt.show()"
      ],
      "metadata": {
        "id": "nmrF-fLcN0nZ"
      },
      "execution_count": null,
      "outputs": []
    }
  ]
}